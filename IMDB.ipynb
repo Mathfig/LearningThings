{
 "cells": [
  {
   "cell_type": "markdown",
   "metadata": {},
   "source": [
    "# IMDB Data (CADS Event)\n",
    "\n",
    "The data we're working with is general imdb data and since it's October, we're really only interested in scary movies.\n",
    "The dataset has 14,000 movies in total and came from https://www.kaggle.com/orgesleka/imdbmovies. (Keep in mind this data is a bit messy)"
   ]
  },
  {
   "cell_type": "markdown",
   "metadata": {},
   "source": [
    "Before we get started, we need to get our tools ready first:\n",
    "* NumPy and Scipy are numerical computation packages which we'll definitely need\n",
    "* Pandas uses special dataframes which makes data manipulation a cake walk\n",
    "* Matplotlib and Seaborn make everything nice and pretty \n",
    "    * Make sure you have \"%matplotlib inline\" included so that your plots load correctly in the notebook\n"
   ]
  },
  {
   "cell_type": "code",
   "execution_count": 1,
   "metadata": {},
   "outputs": [],
   "source": [
    "import numpy as np\n",
    "import scipy\n",
    "import pandas as pd\n",
    "import matplotlib.pyplot as plt\n",
    "import seaborn as sns\n",
    "\n",
    "%matplotlib inline"
   ]
  },
  {
   "cell_type": "markdown",
   "metadata": {},
   "source": [
    "Now to load the data! If this isn't working, check to make sure the csv file is in the same directory as the notebook"
   ]
  },
  {
   "cell_type": "code",
   "execution_count": 2,
   "metadata": {},
   "outputs": [],
   "source": [
    "movies = pd.read_csv('imdb.csv')"
   ]
  },
  {
   "cell_type": "markdown",
   "metadata": {},
   "source": [
    "# Cleaning the data\n",
    "\n",
    "Before we get to do anything cool, we need to clean up the data so that it's actually usable. Many of the columns have data that isn't in the form we want it or it might even be misplaced. For instance you may stumble upon URLs in some of the numerics columns which isn't really what we want."
   ]
  },
  {
   "cell_type": "code",
   "execution_count": 3,
   "metadata": {},
   "outputs": [
    {
     "data": {
      "text/html": [
       "<div>\n",
       "<style>\n",
       "    .dataframe thead tr:only-child th {\n",
       "        text-align: right;\n",
       "    }\n",
       "\n",
       "    .dataframe thead th {\n",
       "        text-align: left;\n",
       "    }\n",
       "\n",
       "    .dataframe tbody tr th {\n",
       "        vertical-align: top;\n",
       "    }\n",
       "</style>\n",
       "<table border=\"1\" class=\"dataframe\">\n",
       "  <thead>\n",
       "    <tr style=\"text-align: right;\">\n",
       "      <th></th>\n",
       "      <th>fn</th>\n",
       "      <th>tid</th>\n",
       "      <th>title</th>\n",
       "      <th>wordsInTitle</th>\n",
       "      <th>url</th>\n",
       "      <th>imdbRating</th>\n",
       "      <th>ratingCount</th>\n",
       "      <th>duration</th>\n",
       "      <th>year</th>\n",
       "      <th>type</th>\n",
       "      <th>...</th>\n",
       "      <th>News</th>\n",
       "      <th>RealityTV</th>\n",
       "      <th>Romance</th>\n",
       "      <th>SciFi</th>\n",
       "      <th>Short</th>\n",
       "      <th>Sport</th>\n",
       "      <th>TalkShow</th>\n",
       "      <th>Thriller</th>\n",
       "      <th>War</th>\n",
       "      <th>Western</th>\n",
       "    </tr>\n",
       "  </thead>\n",
       "  <tbody>\n",
       "    <tr>\n",
       "      <th>0</th>\n",
       "      <td>titles01/tt0012349</td>\n",
       "      <td>tt0012349</td>\n",
       "      <td>Der Vagabund und das Kind (1921)</td>\n",
       "      <td>der vagabund und das kind</td>\n",
       "      <td>http://www.imdb.com/title/tt0012349/</td>\n",
       "      <td>8.4</td>\n",
       "      <td>40550</td>\n",
       "      <td>3240</td>\n",
       "      <td>1921</td>\n",
       "      <td>video.movie</td>\n",
       "      <td>...</td>\n",
       "      <td>0</td>\n",
       "      <td>0</td>\n",
       "      <td>0</td>\n",
       "      <td>0</td>\n",
       "      <td>0</td>\n",
       "      <td>0</td>\n",
       "      <td>0</td>\n",
       "      <td>0</td>\n",
       "      <td>0</td>\n",
       "      <td>0</td>\n",
       "    </tr>\n",
       "    <tr>\n",
       "      <th>1</th>\n",
       "      <td>titles01/tt0015864</td>\n",
       "      <td>tt0015864</td>\n",
       "      <td>Goldrausch (1925)</td>\n",
       "      <td>goldrausch</td>\n",
       "      <td>http://www.imdb.com/title/tt0015864/</td>\n",
       "      <td>8.3</td>\n",
       "      <td>45319</td>\n",
       "      <td>5700</td>\n",
       "      <td>1925</td>\n",
       "      <td>video.movie</td>\n",
       "      <td>...</td>\n",
       "      <td>0</td>\n",
       "      <td>0</td>\n",
       "      <td>0</td>\n",
       "      <td>0</td>\n",
       "      <td>0</td>\n",
       "      <td>0</td>\n",
       "      <td>0</td>\n",
       "      <td>0</td>\n",
       "      <td>0</td>\n",
       "      <td>0</td>\n",
       "    </tr>\n",
       "    <tr>\n",
       "      <th>2</th>\n",
       "      <td>titles01/tt0017136</td>\n",
       "      <td>tt0017136</td>\n",
       "      <td>Metropolis (1927)</td>\n",
       "      <td>metropolis</td>\n",
       "      <td>http://www.imdb.com/title/tt0017136/</td>\n",
       "      <td>8.4</td>\n",
       "      <td>81007</td>\n",
       "      <td>9180</td>\n",
       "      <td>1927</td>\n",
       "      <td>video.movie</td>\n",
       "      <td>...</td>\n",
       "      <td>0</td>\n",
       "      <td>0</td>\n",
       "      <td>0</td>\n",
       "      <td>1</td>\n",
       "      <td>0</td>\n",
       "      <td>0</td>\n",
       "      <td>0</td>\n",
       "      <td>0</td>\n",
       "      <td>0</td>\n",
       "      <td>0</td>\n",
       "    </tr>\n",
       "    <tr>\n",
       "      <th>3</th>\n",
       "      <td>titles01/tt0017925</td>\n",
       "      <td>tt0017925</td>\n",
       "      <td>Der General (1926)</td>\n",
       "      <td>der general</td>\n",
       "      <td>http://www.imdb.com/title/tt0017925/</td>\n",
       "      <td>8.3</td>\n",
       "      <td>37521</td>\n",
       "      <td>6420</td>\n",
       "      <td>1926</td>\n",
       "      <td>video.movie</td>\n",
       "      <td>...</td>\n",
       "      <td>0</td>\n",
       "      <td>0</td>\n",
       "      <td>0</td>\n",
       "      <td>0</td>\n",
       "      <td>0</td>\n",
       "      <td>0</td>\n",
       "      <td>0</td>\n",
       "      <td>0</td>\n",
       "      <td>0</td>\n",
       "      <td>0</td>\n",
       "    </tr>\n",
       "    <tr>\n",
       "      <th>4</th>\n",
       "      <td>titles01/tt0021749</td>\n",
       "      <td>tt0021749</td>\n",
       "      <td>Lichter der Großstadt (1931)</td>\n",
       "      <td>lichter der gro stadt</td>\n",
       "      <td>http://www.imdb.com/title/tt0021749/</td>\n",
       "      <td>8.7</td>\n",
       "      <td>70057</td>\n",
       "      <td>5220</td>\n",
       "      <td>1931</td>\n",
       "      <td>video.movie</td>\n",
       "      <td>...</td>\n",
       "      <td>0</td>\n",
       "      <td>0</td>\n",
       "      <td>1</td>\n",
       "      <td>0</td>\n",
       "      <td>0</td>\n",
       "      <td>0</td>\n",
       "      <td>0</td>\n",
       "      <td>0</td>\n",
       "      <td>0</td>\n",
       "      <td>0</td>\n",
       "    </tr>\n",
       "  </tbody>\n",
       "</table>\n",
       "<p>5 rows × 44 columns</p>\n",
       "</div>"
      ],
      "text/plain": [
       "                   fn        tid                             title  \\\n",
       "0  titles01/tt0012349  tt0012349  Der Vagabund und das Kind (1921)   \n",
       "1  titles01/tt0015864  tt0015864                 Goldrausch (1925)   \n",
       "2  titles01/tt0017136  tt0017136                 Metropolis (1927)   \n",
       "3  titles01/tt0017925  tt0017925                Der General (1926)   \n",
       "4  titles01/tt0021749  tt0021749      Lichter der Großstadt (1931)   \n",
       "\n",
       "                wordsInTitle                                   url imdbRating  \\\n",
       "0  der vagabund und das kind  http://www.imdb.com/title/tt0012349/        8.4   \n",
       "1                 goldrausch  http://www.imdb.com/title/tt0015864/        8.3   \n",
       "2                 metropolis  http://www.imdb.com/title/tt0017136/        8.4   \n",
       "3                der general  http://www.imdb.com/title/tt0017925/        8.3   \n",
       "4      lichter der gro stadt  http://www.imdb.com/title/tt0021749/        8.7   \n",
       "\n",
       "  ratingCount duration  year         type   ...    News RealityTV Romance  \\\n",
       "0       40550     3240  1921  video.movie   ...       0         0       0   \n",
       "1       45319     5700  1925  video.movie   ...       0         0       0   \n",
       "2       81007     9180  1927  video.movie   ...       0         0       0   \n",
       "3       37521     6420  1926  video.movie   ...       0         0       0   \n",
       "4       70057     5220  1931  video.movie   ...       0         0       1   \n",
       "\n",
       "  SciFi  Short  Sport  TalkShow  Thriller  War  Western  \n",
       "0     0      0      0         0         0    0        0  \n",
       "1     0      0      0         0         0    0        0  \n",
       "2     1      0      0         0         0    0        0  \n",
       "3     0      0      0         0         0    0        0  \n",
       "4     0      0      0         0         0    0        0  \n",
       "\n",
       "[5 rows x 44 columns]"
      ]
     },
     "execution_count": 3,
     "metadata": {},
     "output_type": "execute_result"
    }
   ],
   "source": [
    "movies.head()"
   ]
  },
  {
   "cell_type": "markdown",
   "metadata": {},
   "source": [
    "First let's trim out all the columns we really don't care about"
   ]
  },
  {
   "cell_type": "code",
   "execution_count": 4,
   "metadata": {},
   "outputs": [
    {
     "data": {
      "text/plain": [
       "Index(['fn', 'tid', 'title', 'wordsInTitle', 'url', 'imdbRating',\n",
       "       'ratingCount', 'duration', 'year', 'type', 'nrOfWins',\n",
       "       'nrOfNominations', 'nrOfPhotos', 'nrOfNewsArticles', 'nrOfUserReviews',\n",
       "       'nrOfGenre', 'Action', 'Adult', 'Adventure', 'Animation', 'Biography',\n",
       "       'Comedy', 'Crime', 'Documentary', 'Drama', 'Family', 'Fantasy',\n",
       "       'FilmNoir', 'GameShow', 'History', 'Horror', 'Music', 'Musical',\n",
       "       'Mystery', 'News', 'RealityTV', 'Romance', 'SciFi', 'Short', 'Sport',\n",
       "       'TalkShow', 'Thriller', 'War', 'Western'],\n",
       "      dtype='object')"
      ]
     },
     "execution_count": 4,
     "metadata": {},
     "output_type": "execute_result"
    }
   ],
   "source": [
    "movies.columns"
   ]
  },
  {
   "cell_type": "code",
   "execution_count": 5,
   "metadata": {},
   "outputs": [
    {
     "data": {
      "text/plain": [
       "title               object\n",
       "wordsInTitle        object\n",
       "imdbRating          object\n",
       "ratingCount         object\n",
       "duration            object\n",
       "year                object\n",
       "type                object\n",
       "nrOfWins            object\n",
       "nrOfNominations     object\n",
       "nrOfPhotos          object\n",
       "nrOfNewsArticles    object\n",
       "nrOfUserReviews      int64\n",
       "nrOfGenre            int64\n",
       "dtype: object"
      ]
     },
     "execution_count": 5,
     "metadata": {},
     "output_type": "execute_result"
    }
   ],
   "source": [
    "movies = movies[['title', 'wordsInTitle', 'imdbRating',\n",
    "       'ratingCount', 'duration', 'year', 'type', 'nrOfWins',\n",
    "       'nrOfNominations', 'nrOfPhotos', 'nrOfNewsArticles', 'nrOfUserReviews',\n",
    "        'nrOfGenre','Horror']]\n",
    "#Take out all the non-horror movies\n",
    "movies = movies[movies.Horror != 0]\n",
    "\n",
    "#Remove horror since it's redundant\n",
    "movies = movies.drop([\"Horror\"],axis=1)\n",
    "movies.dtypes"
   ]
  },
  {
   "cell_type": "markdown",
   "metadata": {},
   "source": [
    "We'd rather most of these columns be numerics rather than objects/strings so let's make it happen\n",
    "\n",
    "Also, loop through and trash any not-numbers"
   ]
  },
  {
   "cell_type": "code",
   "execution_count": 6,
   "metadata": {},
   "outputs": [],
   "source": [
    "colstoint = list(movies.drop(['title','wordsInTitle','type'],axis=1))\n",
    "\n",
    "for col in colstoint:\n",
    "    movies[col] = pd.to_numeric(movies[col], errors='coerce')\n",
    "    \n",
    "#coerce turns all the errors into NaNs"
   ]
  },
  {
   "cell_type": "markdown",
   "metadata": {},
   "source": [
    "Now all the datatypes are what we want and even our sporaticly placed data has been handled (for the most part)"
   ]
  },
  {
   "cell_type": "code",
   "execution_count": 7,
   "metadata": {},
   "outputs": [
    {
     "data": {
      "text/plain": [
       "title                object\n",
       "wordsInTitle         object\n",
       "imdbRating          float64\n",
       "ratingCount         float64\n",
       "duration            float64\n",
       "year                float64\n",
       "type                 object\n",
       "nrOfWins            float64\n",
       "nrOfNominations     float64\n",
       "nrOfPhotos            int64\n",
       "nrOfNewsArticles      int64\n",
       "nrOfUserReviews       int64\n",
       "nrOfGenre             int64\n",
       "dtype: object"
      ]
     },
     "execution_count": 7,
     "metadata": {},
     "output_type": "execute_result"
    }
   ],
   "source": [
    "movies.dtypes"
   ]
  },
  {
   "cell_type": "code",
   "execution_count": 8,
   "metadata": {},
   "outputs": [
    {
     "data": {
      "text/html": [
       "<div>\n",
       "<style>\n",
       "    .dataframe thead tr:only-child th {\n",
       "        text-align: right;\n",
       "    }\n",
       "\n",
       "    .dataframe thead th {\n",
       "        text-align: left;\n",
       "    }\n",
       "\n",
       "    .dataframe tbody tr th {\n",
       "        vertical-align: top;\n",
       "    }\n",
       "</style>\n",
       "<table border=\"1\" class=\"dataframe\">\n",
       "  <thead>\n",
       "    <tr style=\"text-align: right;\">\n",
       "      <th></th>\n",
       "      <th>imdbRating</th>\n",
       "      <th>ratingCount</th>\n",
       "      <th>duration</th>\n",
       "      <th>year</th>\n",
       "      <th>nrOfWins</th>\n",
       "      <th>nrOfNominations</th>\n",
       "      <th>nrOfPhotos</th>\n",
       "      <th>nrOfNewsArticles</th>\n",
       "      <th>nrOfUserReviews</th>\n",
       "      <th>nrOfGenre</th>\n",
       "    </tr>\n",
       "  </thead>\n",
       "  <tbody>\n",
       "    <tr>\n",
       "      <th>count</th>\n",
       "      <td>988.000000</td>\n",
       "      <td>1004.000000</td>\n",
       "      <td>1001.000000</td>\n",
       "      <td>1029.000000</td>\n",
       "      <td>1014.000000</td>\n",
       "      <td>1029.000000</td>\n",
       "      <td>1030.000000</td>\n",
       "      <td>1030.000000</td>\n",
       "      <td>1030.000000</td>\n",
       "      <td>1030.000000</td>\n",
       "    </tr>\n",
       "    <tr>\n",
       "      <th>mean</th>\n",
       "      <td>6.060830</td>\n",
       "      <td>24643.401394</td>\n",
       "      <td>5657.676224</td>\n",
       "      <td>2098.867833</td>\n",
       "      <td>3.472387</td>\n",
       "      <td>1.959184</td>\n",
       "      <td>21.138835</td>\n",
       "      <td>277.766990</td>\n",
       "      <td>167.951456</td>\n",
       "      <td>3.732039</td>\n",
       "    </tr>\n",
       "    <tr>\n",
       "      <th>std</th>\n",
       "      <td>1.325899</td>\n",
       "      <td>44346.668042</td>\n",
       "      <td>4357.192326</td>\n",
       "      <td>1345.685642</td>\n",
       "      <td>62.685183</td>\n",
       "      <td>5.367459</td>\n",
       "      <td>59.675028</td>\n",
       "      <td>816.682368</td>\n",
       "      <td>247.100924</td>\n",
       "      <td>19.599688</td>\n",
       "    </tr>\n",
       "    <tr>\n",
       "      <th>min</th>\n",
       "      <td>1.500000</td>\n",
       "      <td>5.000000</td>\n",
       "      <td>5.900000</td>\n",
       "      <td>94.000000</td>\n",
       "      <td>0.000000</td>\n",
       "      <td>0.000000</td>\n",
       "      <td>0.000000</td>\n",
       "      <td>0.000000</td>\n",
       "      <td>0.000000</td>\n",
       "      <td>0.000000</td>\n",
       "    </tr>\n",
       "    <tr>\n",
       "      <th>25%</th>\n",
       "      <td>5.400000</td>\n",
       "      <td>1898.000000</td>\n",
       "      <td>5100.000000</td>\n",
       "      <td>1979.000000</td>\n",
       "      <td>0.000000</td>\n",
       "      <td>0.000000</td>\n",
       "      <td>3.000000</td>\n",
       "      <td>4.000000</td>\n",
       "      <td>32.000000</td>\n",
       "      <td>2.000000</td>\n",
       "    </tr>\n",
       "    <tr>\n",
       "      <th>50%</th>\n",
       "      <td>6.200000</td>\n",
       "      <td>7178.000000</td>\n",
       "      <td>5520.000000</td>\n",
       "      <td>1997.000000</td>\n",
       "      <td>0.000000</td>\n",
       "      <td>0.000000</td>\n",
       "      <td>10.000000</td>\n",
       "      <td>39.500000</td>\n",
       "      <td>84.000000</td>\n",
       "      <td>3.000000</td>\n",
       "    </tr>\n",
       "    <tr>\n",
       "      <th>75%</th>\n",
       "      <td>6.900000</td>\n",
       "      <td>25751.500000</td>\n",
       "      <td>6060.000000</td>\n",
       "      <td>2007.000000</td>\n",
       "      <td>1.000000</td>\n",
       "      <td>2.000000</td>\n",
       "      <td>23.000000</td>\n",
       "      <td>180.000000</td>\n",
       "      <td>198.000000</td>\n",
       "      <td>3.000000</td>\n",
       "    </tr>\n",
       "    <tr>\n",
       "      <th>max</th>\n",
       "      <td>9.500000</td>\n",
       "      <td>418163.000000</td>\n",
       "      <td>108635.000000</td>\n",
       "      <td>40140.000000</td>\n",
       "      <td>1994.000000</td>\n",
       "      <td>91.000000</td>\n",
       "      <td>1196.000000</td>\n",
       "      <td>12562.000000</td>\n",
       "      <td>3361.000000</td>\n",
       "      <td>511.000000</td>\n",
       "    </tr>\n",
       "  </tbody>\n",
       "</table>\n",
       "</div>"
      ],
      "text/plain": [
       "       imdbRating    ratingCount       duration          year     nrOfWins  \\\n",
       "count  988.000000    1004.000000    1001.000000   1029.000000  1014.000000   \n",
       "mean     6.060830   24643.401394    5657.676224   2098.867833     3.472387   \n",
       "std      1.325899   44346.668042    4357.192326   1345.685642    62.685183   \n",
       "min      1.500000       5.000000       5.900000     94.000000     0.000000   \n",
       "25%      5.400000    1898.000000    5100.000000   1979.000000     0.000000   \n",
       "50%      6.200000    7178.000000    5520.000000   1997.000000     0.000000   \n",
       "75%      6.900000   25751.500000    6060.000000   2007.000000     1.000000   \n",
       "max      9.500000  418163.000000  108635.000000  40140.000000  1994.000000   \n",
       "\n",
       "       nrOfNominations   nrOfPhotos  nrOfNewsArticles  nrOfUserReviews  \\\n",
       "count      1029.000000  1030.000000       1030.000000      1030.000000   \n",
       "mean          1.959184    21.138835        277.766990       167.951456   \n",
       "std           5.367459    59.675028        816.682368       247.100924   \n",
       "min           0.000000     0.000000          0.000000         0.000000   \n",
       "25%           0.000000     3.000000          4.000000        32.000000   \n",
       "50%           0.000000    10.000000         39.500000        84.000000   \n",
       "75%           2.000000    23.000000        180.000000       198.000000   \n",
       "max          91.000000  1196.000000      12562.000000      3361.000000   \n",
       "\n",
       "         nrOfGenre  \n",
       "count  1030.000000  \n",
       "mean      3.732039  \n",
       "std      19.599688  \n",
       "min       0.000000  \n",
       "25%       2.000000  \n",
       "50%       3.000000  \n",
       "75%       3.000000  \n",
       "max     511.000000  "
      ]
     },
     "execution_count": 8,
     "metadata": {},
     "output_type": "execute_result"
    }
   ],
   "source": [
    "movies.describe()"
   ]
  },
  {
   "cell_type": "markdown",
   "metadata": {},
   "source": [
    "Just when we thought we were in the clear, we still have a couple of problems. Notice how the first movie/tv episode was made in the year 94 and the last was made in 40140. Maybe let's change this"
   ]
  },
  {
   "cell_type": "code",
   "execution_count": 9,
   "metadata": {},
   "outputs": [],
   "source": [
    "movies = movies[(movies.year > 1900) & (movies.year < 2018)]"
   ]
  },
  {
   "cell_type": "markdown",
   "metadata": {},
   "source": [
    "Pandas is usually pretty nice about ignoring null values when doing computations, but we might want to dispose of them to make plotting a little easier"
   ]
  },
  {
   "cell_type": "code",
   "execution_count": 10,
   "metadata": {},
   "outputs": [
    {
     "data": {
      "text/plain": [
       "(1012, 963)"
      ]
     },
     "execution_count": 10,
     "metadata": {},
     "output_type": "execute_result"
    }
   ],
   "source": [
    "(len(movies),len(movies.dropna()))"
   ]
  },
  {
   "cell_type": "markdown",
   "metadata": {},
   "source": [
    "We lose about 1/20 of our dataset by dropping all the null values which isn't great, but now our data is going to be all neat"
   ]
  },
  {
   "cell_type": "code",
   "execution_count": 11,
   "metadata": {},
   "outputs": [],
   "source": [
    "movies = movies.dropna()"
   ]
  },
  {
   "cell_type": "markdown",
   "metadata": {},
   "source": [
    "# Plotting and Actual Fun Stuff"
   ]
  },
  {
   "cell_type": "markdown",
   "metadata": {},
   "source": [
    "So what's the most popular movie or tv show?"
   ]
  },
  {
   "cell_type": "code",
   "execution_count": 12,
   "metadata": {},
   "outputs": [
    {
     "data": {
      "text/html": [
       "<div>\n",
       "<style>\n",
       "    .dataframe thead tr:only-child th {\n",
       "        text-align: right;\n",
       "    }\n",
       "\n",
       "    .dataframe thead th {\n",
       "        text-align: left;\n",
       "    }\n",
       "\n",
       "    .dataframe tbody tr th {\n",
       "        vertical-align: top;\n",
       "    }\n",
       "</style>\n",
       "<table border=\"1\" class=\"dataframe\">\n",
       "  <thead>\n",
       "    <tr style=\"text-align: right;\">\n",
       "      <th></th>\n",
       "      <th>title</th>\n",
       "      <th>wordsInTitle</th>\n",
       "      <th>imdbRating</th>\n",
       "      <th>ratingCount</th>\n",
       "      <th>duration</th>\n",
       "      <th>year</th>\n",
       "      <th>type</th>\n",
       "      <th>nrOfWins</th>\n",
       "      <th>nrOfNominations</th>\n",
       "      <th>nrOfPhotos</th>\n",
       "      <th>nrOfNewsArticles</th>\n",
       "      <th>nrOfUserReviews</th>\n",
       "      <th>nrOfGenre</th>\n",
       "    </tr>\n",
       "  </thead>\n",
       "  <tbody>\n",
       "    <tr>\n",
       "      <th>8109</th>\n",
       "      <td>The Vampire Diaries (TV Series 2009– )</td>\n",
       "      <td>the vampire diaries tv series</td>\n",
       "      <td>8.2</td>\n",
       "      <td>158261.0</td>\n",
       "      <td>2580.0</td>\n",
       "      <td>2009.0</td>\n",
       "      <td>video.tv</td>\n",
       "      <td>25.0</td>\n",
       "      <td>34.0</td>\n",
       "      <td>1158</td>\n",
       "      <td>12562</td>\n",
       "      <td>231</td>\n",
       "      <td>3</td>\n",
       "    </tr>\n",
       "  </tbody>\n",
       "</table>\n",
       "</div>"
      ],
      "text/plain": [
       "                                       title                   wordsInTitle  \\\n",
       "8109  The Vampire Diaries (TV Series 2009– )  the vampire diaries tv series   \n",
       "\n",
       "      imdbRating  ratingCount  duration    year      type  nrOfWins  \\\n",
       "8109         8.2     158261.0    2580.0  2009.0  video.tv      25.0   \n",
       "\n",
       "      nrOfNominations  nrOfPhotos  nrOfNewsArticles  nrOfUserReviews  \\\n",
       "8109             34.0        1158             12562              231   \n",
       "\n",
       "      nrOfGenre  \n",
       "8109          3  "
      ]
     },
     "execution_count": 12,
     "metadata": {},
     "output_type": "execute_result"
    }
   ],
   "source": [
    "movies.loc[[(movies.nrOfNewsArticles).idxmax()]]\n",
    "#idxmax is just argmax for pandas"
   ]
  },
  {
   "cell_type": "markdown",
   "metadata": {},
   "source": [
    "Of course it is"
   ]
  },
  {
   "cell_type": "code",
   "execution_count": 13,
   "metadata": {},
   "outputs": [
    {
     "data": {
      "text/plain": [
       "<matplotlib.axes._subplots.AxesSubplot at 0x26f709a90b8>"
      ]
     },
     "execution_count": 13,
     "metadata": {},
     "output_type": "execute_result"
    },
    {
     "data": {
      "image/png": "[encoded data removed]",
      "text/plain": [
       "<matplotlib.figure.Figure at 0x26f713e4d68>"
      ]
     },
     "metadata": {},
     "output_type": "display_data"
    }
   ],
   "source": [
    "sns.distplot(movies[movies.type==\"video.movie\"].imdbRating, hist=False, rug=True,color='b', label=\"Movie\")\n",
    "sns.distplot(movies[movies.type==\"video.tv\"].imdbRating, hist=False, rug=True,color='r', label=\"TV\")\n",
    "sns.distplot(movies[movies.type==\"video.episode\"].imdbRating, hist=False, rug=True,color='g', label=\"Episode\")"
   ]
  },
  {
   "cell_type": "code",
   "execution_count": 14,
   "metadata": {},
   "outputs": [
    {
     "data": {
      "text/plain": [
       "<seaborn.axisgrid.FacetGrid at 0x26f713e4f60>"
      ]
     },
     "execution_count": 14,
     "metadata": {},
     "output_type": "execute_result"
    },
    {
     "data": {
      "image/png": "[encoded data removed]",
      "text/plain": [
       "<matplotlib.figure.Figure at 0x26f713e4ac8>"
      ]
     },
     "metadata": {},
     "output_type": "display_data"
    }
   ],
   "source": [
    "grid = sns.FacetGrid(movies, col=\"type\")\n",
    "grid.map(plt.scatter, \"ratingCount\",\"imdbRating\", alpha=.75)"
   ]
  },
  {
   "cell_type": "code",
   "execution_count": 15,
   "metadata": {
    "scrolled": true
   },
   "outputs": [],
   "source": [
    "#sns.pairplot(movies, hue=\"type\")        #this is big but fun"
   ]
  },
  {
   "cell_type": "markdown",
   "metadata": {},
   "source": [
    "Before we actually fit linear models to the data, let's ignore the \"video.episode\" category since it'll produce an extremely steep slope and we won't be able to see the other two more interesting plots\n",
    "\n",
    "Try to see what happens if you leave it in"
   ]
  },
  {
   "cell_type": "code",
   "execution_count": 16,
   "metadata": {},
   "outputs": [
    {
     "data": {
      "text/plain": [
       "<seaborn.axisgrid.FacetGrid at 0x26f72320518>"
      ]
     },
     "execution_count": 16,
     "metadata": {},
     "output_type": "execute_result"
    },
    {
     "data": {
      "image/png": "[encoded data removed]",
      "text/plain": [
       "<matplotlib.figure.Figure at 0x26f72320b70>"
      ]
     },
     "metadata": {},
     "output_type": "display_data"
    }
   ],
   "source": [
    "sns.lmplot(x=\"ratingCount\", y=\"imdbRating\",  data=movies[movies.type.str.contains(\"video.episode\") == False], hue='type')"
   ]
  },
  {
   "cell_type": "markdown",
   "metadata": {},
   "source": [
    "This looks good, but a log fit might be better suited for this"
   ]
  },
  {
   "cell_type": "code",
   "execution_count": 80,
   "metadata": {},
   "outputs": [],
   "source": [
    "#This scipy function takes a general log function, the input and output data, and estimates a and b\n",
    "\n",
    "c,k = scipy.optimize.curve_fit(lambda t,a,b: a + b * np.log(t), movies.ratingCount, movies.imdbRating)[0]"
   ]
  },
  {
   "cell_type": "code",
   "execution_count": 81,
   "metadata": {},
   "outputs": [
    {
     "data": {
      "text/plain": [
       "<matplotlib.collections.PathCollection at 0x26f76b243c8>"
      ]
     },
     "execution_count": 81,
     "metadata": {},
     "output_type": "execute_result"
    },
    {
     "data": {
      "image/png": "[encoded data removed]",
      "text/plain": [
       "<matplotlib.figure.Figure at 0x26f77ef04a8>"
      ]
     },
     "metadata": {},
     "output_type": "display_data"
    }
   ],
   "source": [
    "t = np.linspace(1,400000,200)\n",
    "z = c + k * np.log(t)\n",
    "plt.plot(t,z,'black')\n",
    "plt.scatter(movies.ratingCount, movies.imdbRating, color='orange',alpha=.5)"
   ]
  },
  {
   "cell_type": "code",
   "execution_count": 77,
   "metadata": {},
   "outputs": [
    {
     "data": {
      "text/plain": [
       "<matplotlib.collections.PathCollection at 0x26f77e64d30>"
      ]
     },
     "execution_count": 77,
     "metadata": {},
     "output_type": "execute_result"
    },
    {
     "data": {
      "image/png": "[encoded data removed]",
      "text/plain": [
       "<matplotlib.figure.Figure at 0x26f760d3b70>"
      ]
     },
     "metadata": {},
     "output_type": "display_data"
    }
   ],
   "source": [
    "plt.plot(t,np.poly1d(np.polyfit(movies.ratingCount, movies.imdbRating,2))(t),'black')\n",
    "plt.scatter(movies.ratingCount, movies.imdbRating, color='orange',alpha=.75)"
   ]
  },
  {
   "cell_type": "markdown",
   "metadata": {},
   "source": [
    "Point is: now that you have your data all prepped, you can experiment with different models and do all sorts of cool things"
   ]
  }
 ],
 "metadata": {
  "kernelspec": {
   "display_name": "Python 3",
   "language": "python",
   "name": "python3"
  },
  "language_info": {
   "codemirror_mode": {
    "name": "ipython",
    "version": 3
   },
   "file_extension": ".py",
   "mimetype": "text/x-python",
   "name": "python",
   "nbconvert_exporter": "python",
   "pygments_lexer": "ipython3",
   "version": "3.6.3rc1"
  }
 },
 "nbformat": 4,
 "nbformat_minor": 2
}
